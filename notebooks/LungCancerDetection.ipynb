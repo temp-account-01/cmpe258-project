{
  "cells": [
    {
      "cell_type": "markdown",
      "metadata": {
        "id": "t3D5CyaQkPMv"
      },
      "source": [
        "## I am using LUNA16 competition dataset"
      ]
    },
    {
      "cell_type": "markdown",
      "metadata": {
        "id": "zduvRzSAkPMx"
      },
      "source": [
        "Lung cancer is the leading cause of cancer-related death worldwide. Screening high risk individuals for lung cancer with low-dose CT scans is now being implemented in the United States and other countries are expected to follow soon. In CT lung cancer screening, many millions of CT scans will have to be analyzed, which is an enormous burden for radiologists. Therefore there is a lot of interest to develop computer algorithms to optimize screening.?\n",
        "\n",
        "The upcoming high-profile?Coding4Cancer?challenge invites coders to create the best computer algorithm that can identify a person as having lung cancer based on one or multiple low-dose CT images.\n",
        "\n",
        "To be able to solve the Coding4Cancer challenge, and detect lung cancer in an early stage, pulmonary nodules, the early manifestation of lung cancers, have to be located. Many Computer-aided detection (CAD) systems have already been proposed for this task. The LUNA16 challenge will focus on a large-scale evaluation of automatic nodule detection algorithms on the publicly available LIDC/IDRI dataset."
      ]
    },
    {
      "cell_type": "markdown",
      "metadata": {
        "id": "zJyZiacvkPMz"
      },
      "source": [
        "## Things to do!\n",
        "### Monday\n",
        "1. .mhd files (extract 3D image data) - done\n",
        "\n",
        "### Tuesday\n",
        "2. Extract 2D image slice based on the coordinates?\n",
        "3. Preprocess data\n",
        "\n",
        "\n",
        "### Day after + Thursday\n",
        "4. Train a CNN\n",
        "5. Validate using their evaluation\n",
        "6. Uncertainty quantification\n",
        "\n"
      ]
    },
    {
      "cell_type": "markdown",
      "metadata": {
        "id": "0_rL_N9PkPM0"
      },
      "source": [
        "### Import necessary libraries"
      ]
    },
    {
      "cell_type": "code",
      "source": [
        "from google.colab import drive\n",
        "drive.mount('/content/drive/')\n",
        "path  = \"/content/drive/MyDrive/ColabNotebooks/LungCancerDetection-master/\""
      ],
      "metadata": {
        "colab": {
          "base_uri": "https://localhost:8080/"
        },
        "id": "F9pobtpomooq",
        "outputId": "ceaccfe5-103d-4afc-b53c-2a7a78268cd5"
      },
      "execution_count": null,
      "outputs": [
        {
          "output_type": "stream",
          "name": "stdout",
          "text": [
            "Drive already mounted at /content/drive/; to attempt to forcibly remount, call drive.mount(\"/content/drive/\", force_remount=True).\n"
          ]
        }
      ]
    },
    {
      "cell_type": "code",
      "source": [
        "!pip install SimpleITK scipy tflearn"
      ],
      "metadata": {
        "colab": {
          "base_uri": "https://localhost:8080/"
        },
        "id": "VpYYWNoyka8P",
        "outputId": "466101e5-a60b-4d37-fd90-7ac1d925dba5"
      },
      "execution_count": null,
      "outputs": [
        {
          "output_type": "stream",
          "name": "stdout",
          "text": [
            "Requirement already satisfied: SimpleITK in /usr/local/lib/python3.7/dist-packages (2.1.1.2)\n",
            "Requirement already satisfied: scipy in /usr/local/lib/python3.7/dist-packages (1.4.1)\n",
            "Requirement already satisfied: tflearn in /usr/local/lib/python3.7/dist-packages (0.5.0)\n",
            "Requirement already satisfied: numpy>=1.13.3 in /usr/local/lib/python3.7/dist-packages (from scipy) (1.21.6)\n",
            "Requirement already satisfied: six in /usr/local/lib/python3.7/dist-packages (from tflearn) (1.15.0)\n",
            "Requirement already satisfied: Pillow in /usr/local/lib/python3.7/dist-packages (from tflearn) (7.1.2)\n"
          ]
        }
      ]
    },
    {
      "cell_type": "code",
      "execution_count": null,
      "metadata": {
        "collapsed": true,
        "id": "Q4Fuo2aFkPM1"
      },
      "outputs": [],
      "source": [
        "import numpy as np\n",
        "import pandas as pd\n",
        "import multiprocessing\n",
        "import matplotlib.pyplot as plt\n",
        "import seaborn as sns \n",
        "\n",
        "import os\n",
        "import glob\n",
        "\n",
        "import SimpleITK as sitk\n",
        "\n",
        "from PIL import Image\n",
        "\n",
        "from matplotlib.pyplot import imread\n",
        "\n",
        "%matplotlib inline\n",
        "from IPython.display import clear_output\n",
        "pd.options.mode.chained_assignment = None"
      ]
    },
    {
      "cell_type": "markdown",
      "metadata": {
        "id": "LYoJXPCRkPM2"
      },
      "source": [
        "### Let us import annotations"
      ]
    },
    {
      "cell_type": "code",
      "execution_count": null,
      "metadata": {
        "id": "taByD9qXkPM3"
      },
      "outputs": [],
      "source": [
        "candidates = pd.read_csv(path+'src/data/candidates.csv')\n",
        "annotations = pd.read_csv(path+'src/data/annotations.csv')"
      ]
    },
    {
      "cell_type": "code",
      "execution_count": null,
      "metadata": {
        "id": "dLgX78QbkPM3",
        "colab": {
          "base_uri": "https://localhost:8080/",
          "height": 206
        },
        "outputId": "3773a7d2-f781-49a2-f64e-10bb553cf932"
      },
      "outputs": [
        {
          "output_type": "execute_result",
          "data": {
            "text/plain": [
              "                                           seriesuid      coordX      coordY  \\\n",
              "0  1.3.6.1.4.1.14519.5.2.1.6279.6001.100225287222... -128.699421 -175.319272   \n",
              "1  1.3.6.1.4.1.14519.5.2.1.6279.6001.100225287222...  103.783651 -211.925149   \n",
              "2  1.3.6.1.4.1.14519.5.2.1.6279.6001.100398138793...   69.639017 -140.944586   \n",
              "3  1.3.6.1.4.1.14519.5.2.1.6279.6001.100621383016...  -24.013824  192.102405   \n",
              "4  1.3.6.1.4.1.14519.5.2.1.6279.6001.100621383016...    2.441547  172.464881   \n",
              "\n",
              "       coordZ  diameter_mm  \n",
              "0 -298.387506     5.651471  \n",
              "1 -227.121250     4.224708  \n",
              "2  876.374496     5.786348  \n",
              "3 -391.081276     8.143262  \n",
              "4 -405.493732    18.545150  "
            ],
            "text/html": [
              "\n",
              "  <div id=\"df-b0862bae-9c7a-4fbb-af4d-bbdb6ce64f32\">\n",
              "    <div class=\"colab-df-container\">\n",
              "      <div>\n",
              "<style scoped>\n",
              "    .dataframe tbody tr th:only-of-type {\n",
              "        vertical-align: middle;\n",
              "    }\n",
              "\n",
              "    .dataframe tbody tr th {\n",
              "        vertical-align: top;\n",
              "    }\n",
              "\n",
              "    .dataframe thead th {\n",
              "        text-align: right;\n",
              "    }\n",
              "</style>\n",
              "<table border=\"1\" class=\"dataframe\">\n",
              "  <thead>\n",
              "    <tr style=\"text-align: right;\">\n",
              "      <th></th>\n",
              "      <th>seriesuid</th>\n",
              "      <th>coordX</th>\n",
              "      <th>coordY</th>\n",
              "      <th>coordZ</th>\n",
              "      <th>diameter_mm</th>\n",
              "    </tr>\n",
              "  </thead>\n",
              "  <tbody>\n",
              "    <tr>\n",
              "      <th>0</th>\n",
              "      <td>1.3.6.1.4.1.14519.5.2.1.6279.6001.100225287222...</td>\n",
              "      <td>-128.699421</td>\n",
              "      <td>-175.319272</td>\n",
              "      <td>-298.387506</td>\n",
              "      <td>5.651471</td>\n",
              "    </tr>\n",
              "    <tr>\n",
              "      <th>1</th>\n",
              "      <td>1.3.6.1.4.1.14519.5.2.1.6279.6001.100225287222...</td>\n",
              "      <td>103.783651</td>\n",
              "      <td>-211.925149</td>\n",
              "      <td>-227.121250</td>\n",
              "      <td>4.224708</td>\n",
              "    </tr>\n",
              "    <tr>\n",
              "      <th>2</th>\n",
              "      <td>1.3.6.1.4.1.14519.5.2.1.6279.6001.100398138793...</td>\n",
              "      <td>69.639017</td>\n",
              "      <td>-140.944586</td>\n",
              "      <td>876.374496</td>\n",
              "      <td>5.786348</td>\n",
              "    </tr>\n",
              "    <tr>\n",
              "      <th>3</th>\n",
              "      <td>1.3.6.1.4.1.14519.5.2.1.6279.6001.100621383016...</td>\n",
              "      <td>-24.013824</td>\n",
              "      <td>192.102405</td>\n",
              "      <td>-391.081276</td>\n",
              "      <td>8.143262</td>\n",
              "    </tr>\n",
              "    <tr>\n",
              "      <th>4</th>\n",
              "      <td>1.3.6.1.4.1.14519.5.2.1.6279.6001.100621383016...</td>\n",
              "      <td>2.441547</td>\n",
              "      <td>172.464881</td>\n",
              "      <td>-405.493732</td>\n",
              "      <td>18.545150</td>\n",
              "    </tr>\n",
              "  </tbody>\n",
              "</table>\n",
              "</div>\n",
              "      <button class=\"colab-df-convert\" onclick=\"convertToInteractive('df-b0862bae-9c7a-4fbb-af4d-bbdb6ce64f32')\"\n",
              "              title=\"Convert this dataframe to an interactive table.\"\n",
              "              style=\"display:none;\">\n",
              "        \n",
              "  <svg xmlns=\"http://www.w3.org/2000/svg\" height=\"24px\"viewBox=\"0 0 24 24\"\n",
              "       width=\"24px\">\n",
              "    <path d=\"M0 0h24v24H0V0z\" fill=\"none\"/>\n",
              "    <path d=\"M18.56 5.44l.94 2.06.94-2.06 2.06-.94-2.06-.94-.94-2.06-.94 2.06-2.06.94zm-11 1L8.5 8.5l.94-2.06 2.06-.94-2.06-.94L8.5 2.5l-.94 2.06-2.06.94zm10 10l.94 2.06.94-2.06 2.06-.94-2.06-.94-.94-2.06-.94 2.06-2.06.94z\"/><path d=\"M17.41 7.96l-1.37-1.37c-.4-.4-.92-.59-1.43-.59-.52 0-1.04.2-1.43.59L10.3 9.45l-7.72 7.72c-.78.78-.78 2.05 0 2.83L4 21.41c.39.39.9.59 1.41.59.51 0 1.02-.2 1.41-.59l7.78-7.78 2.81-2.81c.8-.78.8-2.07 0-2.86zM5.41 20L4 18.59l7.72-7.72 1.47 1.35L5.41 20z\"/>\n",
              "  </svg>\n",
              "      </button>\n",
              "      \n",
              "  <style>\n",
              "    .colab-df-container {\n",
              "      display:flex;\n",
              "      flex-wrap:wrap;\n",
              "      gap: 12px;\n",
              "    }\n",
              "\n",
              "    .colab-df-convert {\n",
              "      background-color: #E8F0FE;\n",
              "      border: none;\n",
              "      border-radius: 50%;\n",
              "      cursor: pointer;\n",
              "      display: none;\n",
              "      fill: #1967D2;\n",
              "      height: 32px;\n",
              "      padding: 0 0 0 0;\n",
              "      width: 32px;\n",
              "    }\n",
              "\n",
              "    .colab-df-convert:hover {\n",
              "      background-color: #E2EBFA;\n",
              "      box-shadow: 0px 1px 2px rgba(60, 64, 67, 0.3), 0px 1px 3px 1px rgba(60, 64, 67, 0.15);\n",
              "      fill: #174EA6;\n",
              "    }\n",
              "\n",
              "    [theme=dark] .colab-df-convert {\n",
              "      background-color: #3B4455;\n",
              "      fill: #D2E3FC;\n",
              "    }\n",
              "\n",
              "    [theme=dark] .colab-df-convert:hover {\n",
              "      background-color: #434B5C;\n",
              "      box-shadow: 0px 1px 3px 1px rgba(0, 0, 0, 0.15);\n",
              "      filter: drop-shadow(0px 1px 2px rgba(0, 0, 0, 0.3));\n",
              "      fill: #FFFFFF;\n",
              "    }\n",
              "  </style>\n",
              "\n",
              "      <script>\n",
              "        const buttonEl =\n",
              "          document.querySelector('#df-b0862bae-9c7a-4fbb-af4d-bbdb6ce64f32 button.colab-df-convert');\n",
              "        buttonEl.style.display =\n",
              "          google.colab.kernel.accessAllowed ? 'block' : 'none';\n",
              "\n",
              "        async function convertToInteractive(key) {\n",
              "          const element = document.querySelector('#df-b0862bae-9c7a-4fbb-af4d-bbdb6ce64f32');\n",
              "          const dataTable =\n",
              "            await google.colab.kernel.invokeFunction('convertToInteractive',\n",
              "                                                     [key], {});\n",
              "          if (!dataTable) return;\n",
              "\n",
              "          const docLinkHtml = 'Like what you see? Visit the ' +\n",
              "            '<a target=\"_blank\" href=https://colab.research.google.com/notebooks/data_table.ipynb>data table notebook</a>'\n",
              "            + ' to learn more about interactive tables.';\n",
              "          element.innerHTML = '';\n",
              "          dataTable['output_type'] = 'display_data';\n",
              "          await google.colab.output.renderOutput(dataTable, element);\n",
              "          const docLink = document.createElement('div');\n",
              "          docLink.innerHTML = docLinkHtml;\n",
              "          element.appendChild(docLink);\n",
              "        }\n",
              "      </script>\n",
              "    </div>\n",
              "  </div>\n",
              "  "
            ]
          },
          "metadata": {},
          "execution_count": 135
        }
      ],
      "source": [
        "annotations.head()"
      ]
    },
    {
      "cell_type": "code",
      "execution_count": null,
      "metadata": {
        "id": "f0vRh-1kkPM5",
        "outputId": "6305b4e9-b559-4140-d7cb-ba965b8c7887",
        "colab": {
          "base_uri": "https://localhost:8080/"
        }
      },
      "outputs": [
        {
          "output_type": "execute_result",
          "data": {
            "text/plain": [
              "1351"
            ]
          },
          "metadata": {},
          "execution_count": 136
        }
      ],
      "source": [
        "candidates['class'].sum()"
      ]
    },
    {
      "cell_type": "code",
      "execution_count": null,
      "metadata": {
        "id": "knBG2YDpkPM5",
        "outputId": "a2be3462-6ee9-4eee-af67-276f26a3d71d",
        "colab": {
          "base_uri": "https://localhost:8080/"
        }
      },
      "outputs": [
        {
          "output_type": "execute_result",
          "data": {
            "text/plain": [
              "1186"
            ]
          },
          "metadata": {},
          "execution_count": 137
        }
      ],
      "source": [
        "len(annotations)"
      ]
    },
    {
      "cell_type": "markdown",
      "metadata": {
        "id": "KNbnZgL_kPM6"
      },
      "source": [
        "### Candidates have two classes, one with nodules, one without"
      ]
    },
    {
      "cell_type": "code",
      "execution_count": null,
      "metadata": {
        "id": "FuCT02CWkPM6",
        "outputId": "907fea3b-2b7e-4a61-afb9-1962688b3474",
        "colab": {
          "base_uri": "https://localhost:8080/"
        }
      },
      "outputs": [
        {
          "output_type": "stream",
          "name": "stdout",
          "text": [
            "<class 'pandas.core.frame.DataFrame'>\n",
            "RangeIndex: 551065 entries, 0 to 551064\n",
            "Data columns (total 5 columns):\n",
            " #   Column     Non-Null Count   Dtype  \n",
            "---  ------     --------------   -----  \n",
            " 0   seriesuid  551065 non-null  object \n",
            " 1   coordX     551065 non-null  float64\n",
            " 2   coordY     551065 non-null  float64\n",
            " 3   coordZ     551065 non-null  float64\n",
            " 4   class      551065 non-null  int64  \n",
            "dtypes: float64(3), int64(1), object(1)\n",
            "memory usage: 21.0+ MB\n"
          ]
        }
      ],
      "source": [
        "candidates.info()"
      ]
    },
    {
      "cell_type": "code",
      "execution_count": null,
      "metadata": {
        "id": "FmRtKtoykPM7",
        "outputId": "ede867db-00a4-4996-c21f-e51457cf6789",
        "colab": {
          "base_uri": "https://localhost:8080/"
        }
      },
      "outputs": [
        {
          "output_type": "stream",
          "name": "stdout",
          "text": [
            "1351\n",
            "549714\n"
          ]
        }
      ],
      "source": [
        "print(len(candidates[candidates['class'] == 1]))\n",
        "print(len(candidates[candidates['class'] == 0]))"
      ]
    },
    {
      "cell_type": "code",
      "execution_count": null,
      "metadata": {
        "id": "F1bwyMYCkPM7",
        "outputId": "bc18d374-ec0d-455f-953e-2760c4a98961",
        "colab": {
          "base_uri": "https://localhost:8080/"
        }
      },
      "outputs": [
        {
          "output_type": "stream",
          "name": "stdout",
          "text": [
            "2\n"
          ]
        }
      ],
      "source": [
        "num_cores = multiprocessing.cpu_count()\n",
        "print(num_cores)"
      ]
    },
    {
      "cell_type": "markdown",
      "metadata": {
        "id": "p2HY-FfUkPM8"
      },
      "source": [
        "### Classes are heaviliy unbalanced, hardly 0.2% percent are positive.\n",
        "\n",
        "The best way to move forward will be to undersample the negative class and then augment the positive class heaviliy to balance out the samples.\n",
        "\n",
        "#### Plan of attack:\n",
        "\n",
        "1. Get an initial subsample of negative class and keep all of the positives such that we have a 80/20 class distribution\n",
        "\n",
        "2. Create a training set such that we augment minority class heavilby rotating to get a 50/50 class distribution"
      ]
    },
    {
      "cell_type": "code",
      "execution_count": null,
      "metadata": {
        "id": "JfHKuQQgkPM8"
      },
      "outputs": [],
      "source": [
        "class CTScan(object):\n",
        "    def __init__(self, filename = None, coords = None):\n",
        "        self.filename = filename\n",
        "        self.coords = coords\n",
        "        self.ds = None\n",
        "        self.image = None\n",
        "\n",
        "    def reset_coords(self, coords):\n",
        "        self.coords = coords\n",
        "\n",
        "    def read_mhd_image(self):\n",
        "        global path\n",
        "        print(path+\"src/data/raw/*/\"+ self.filename + '.mhd')\n",
        "        file_path = glob.glob(path+\"src/data/raw/*/\"+ self.filename + '.mhd')\n",
        "        self.ds = sitk.ReadImage(file_path[0])\n",
        "        self.image = sitk.GetArrayFromImage(self.ds)\n",
        "\n",
        "    def get_resolution(self):\n",
        "        return self.ds.GetSpacing()\n",
        "\n",
        "    def get_origin(self):\n",
        "        return self.ds.GetOrigin()\n",
        "\n",
        "    def get_ds(self):\n",
        "        return self.ds\n",
        "\n",
        "    def get_voxel_coords(self):\n",
        "        origin = self.get_origin()\n",
        "        resolution = self.get_resolution()\n",
        "        voxel_coords = [np.absolute(self.coords[j]-origin[j])/resolution[j] \\\n",
        "            for j in range(len(self.coords))]\n",
        "        return tuple(voxel_coords)\n",
        "    \n",
        "    def get_image(self):\n",
        "        return self.image\n",
        "    \n",
        "    def get_subimage(self, width):\n",
        "        self.read_mhd_image()\n",
        "        x, y, z = self.get_voxel_coords()\n",
        "        subImage = self.image[z, y-width/2:y+width/2, x-width/2:x+width/2]\n",
        "        return subImage   \n",
        "    \n",
        "    def normalizePlanes(self, npzarray):\n",
        "        maxHU = 400.\n",
        "        minHU = -1000.\n",
        "        npzarray = (npzarray - minHU) / (maxHU - minHU)\n",
        "        npzarray[npzarray>1] = 1.\n",
        "        npzarray[npzarray<0] = 0.\n",
        "        return npzarray\n",
        "    \n",
        "    def save_image(self, filename, width):\n",
        "        image = self.get_subimage(width)\n",
        "        image = self.normalizePlanes(image)\n",
        "        Image.fromarray(image*255).convert('L').save(filename)\n",
        "        "
      ]
    },
    {
      "cell_type": "code",
      "execution_count": null,
      "metadata": {
        "collapsed": true,
        "id": "-OjsfxwokPM9"
      },
      "outputs": [],
      "source": [
        "positives = candidates[candidates['class']==1].index  \n",
        "negatives = candidates[candidates['class']==0].index"
      ]
    },
    {
      "cell_type": "markdown",
      "metadata": {
        "id": "n6BFbXIfkPM-"
      },
      "source": [
        "###  Check if my class works"
      ]
    },
    {
      "cell_type": "code",
      "execution_count": null,
      "metadata": {
        "id": "lta-_n5VkPM-"
      },
      "outputs": [],
      "source": [
        "# scan = CTScan(np.asarray(candidates.iloc[negatives[600]])[0], \\\n",
        "#               np.asarray(candidates.iloc[negatives[600]])[1:])\n",
        "# scan.read_mhd_image()\n",
        "# x, y, z = scan.get_voxel_coords()\n",
        "# image = scan.get_image()\n",
        "# dx, dy, dz = scan.get_resolution()\n",
        "# x0, y0, z0 = scan.get_origin()"
      ]
    },
    {
      "cell_type": "markdown",
      "metadata": {
        "id": "85ZHd_ygkPM_"
      },
      "source": [
        "### Try it on a test set you know works"
      ]
    },
    {
      "cell_type": "code",
      "execution_count": null,
      "metadata": {
        "id": "X9RnotXWkPM_",
        "colab": {
          "base_uri": "https://localhost:8080/",
          "height": 394
        },
        "outputId": "652e50fa-c78f-46af-b44c-6696e00b611f"
      },
      "outputs": [
        {
          "output_type": "stream",
          "name": "stdout",
          "text": [
            "/content/drive/MyDrive/ColabNotebooks/LungCancerDetection-master/src/data/raw/*/1.3.6.1.4.1.14519.5.2.1.6279.6001.100398138793540579077826395208.mhd\n"
          ]
        },
        {
          "output_type": "error",
          "ename": "IndexError",
          "evalue": "ignored",
          "traceback": [
            "\u001b[0;31m---------------------------------------------------------------------------\u001b[0m",
            "\u001b[0;31mIndexError\u001b[0m                                Traceback (most recent call last)",
            "\u001b[0;32m<ipython-input-144-b34ab7589309>\u001b[0m in \u001b[0;36m<module>\u001b[0;34m()\u001b[0m\n\u001b[1;32m      2\u001b[0m \u001b[0mcoords\u001b[0m \u001b[0;34m=\u001b[0m \u001b[0;34m(\u001b[0m\u001b[0;36m70.19\u001b[0m\u001b[0;34m,\u001b[0m \u001b[0;34m-\u001b[0m\u001b[0;36m140.93\u001b[0m\u001b[0;34m,\u001b[0m \u001b[0;36m877.68\u001b[0m\u001b[0;34m)\u001b[0m\u001b[0;31m#[877.68, -140.93, 70.19]\u001b[0m\u001b[0;34m\u001b[0m\u001b[0;34m\u001b[0m\u001b[0m\n\u001b[1;32m      3\u001b[0m \u001b[0mscan\u001b[0m \u001b[0;34m=\u001b[0m \u001b[0mCTScan\u001b[0m\u001b[0;34m(\u001b[0m\u001b[0mfilename\u001b[0m\u001b[0;34m,\u001b[0m \u001b[0mcoords\u001b[0m\u001b[0;34m)\u001b[0m\u001b[0;34m\u001b[0m\u001b[0;34m\u001b[0m\u001b[0m\n\u001b[0;32m----> 4\u001b[0;31m \u001b[0mscan\u001b[0m\u001b[0;34m.\u001b[0m\u001b[0mread_mhd_image\u001b[0m\u001b[0;34m(\u001b[0m\u001b[0;34m)\u001b[0m\u001b[0;34m\u001b[0m\u001b[0;34m\u001b[0m\u001b[0m\n\u001b[0m\u001b[1;32m      5\u001b[0m \u001b[0mx\u001b[0m\u001b[0;34m,\u001b[0m \u001b[0my\u001b[0m\u001b[0;34m,\u001b[0m \u001b[0mz\u001b[0m \u001b[0;34m=\u001b[0m \u001b[0mscan\u001b[0m\u001b[0;34m.\u001b[0m\u001b[0mget_voxel_coords\u001b[0m\u001b[0;34m(\u001b[0m\u001b[0;34m)\u001b[0m\u001b[0;34m\u001b[0m\u001b[0;34m\u001b[0m\u001b[0m\n\u001b[1;32m      6\u001b[0m \u001b[0mimage\u001b[0m \u001b[0;34m=\u001b[0m \u001b[0mscan\u001b[0m\u001b[0;34m.\u001b[0m\u001b[0mget_image\u001b[0m\u001b[0;34m(\u001b[0m\u001b[0;34m)\u001b[0m\u001b[0;34m\u001b[0m\u001b[0;34m\u001b[0m\u001b[0m\n",
            "\u001b[0;32m<ipython-input-141-7a5245f1bb5f>\u001b[0m in \u001b[0;36mread_mhd_image\u001b[0;34m(self)\u001b[0m\n\u001b[1;32m     13\u001b[0m         \u001b[0mprint\u001b[0m\u001b[0;34m(\u001b[0m\u001b[0mpath\u001b[0m\u001b[0;34m+\u001b[0m\u001b[0;34m\"src/data/raw/*/\"\u001b[0m\u001b[0;34m+\u001b[0m \u001b[0mself\u001b[0m\u001b[0;34m.\u001b[0m\u001b[0mfilename\u001b[0m \u001b[0;34m+\u001b[0m \u001b[0;34m'.mhd'\u001b[0m\u001b[0;34m)\u001b[0m\u001b[0;34m\u001b[0m\u001b[0;34m\u001b[0m\u001b[0m\n\u001b[1;32m     14\u001b[0m         \u001b[0mfile_path\u001b[0m \u001b[0;34m=\u001b[0m \u001b[0mglob\u001b[0m\u001b[0;34m.\u001b[0m\u001b[0mglob\u001b[0m\u001b[0;34m(\u001b[0m\u001b[0mpath\u001b[0m\u001b[0;34m+\u001b[0m\u001b[0;34m\"src/data/raw/*/\"\u001b[0m\u001b[0;34m+\u001b[0m \u001b[0mself\u001b[0m\u001b[0;34m.\u001b[0m\u001b[0mfilename\u001b[0m \u001b[0;34m+\u001b[0m \u001b[0;34m'.mhd'\u001b[0m\u001b[0;34m)\u001b[0m\u001b[0;34m\u001b[0m\u001b[0;34m\u001b[0m\u001b[0m\n\u001b[0;32m---> 15\u001b[0;31m         \u001b[0mself\u001b[0m\u001b[0;34m.\u001b[0m\u001b[0mds\u001b[0m \u001b[0;34m=\u001b[0m \u001b[0msitk\u001b[0m\u001b[0;34m.\u001b[0m\u001b[0mReadImage\u001b[0m\u001b[0;34m(\u001b[0m\u001b[0mfile_path\u001b[0m\u001b[0;34m[\u001b[0m\u001b[0;36m0\u001b[0m\u001b[0;34m]\u001b[0m\u001b[0;34m)\u001b[0m\u001b[0;34m\u001b[0m\u001b[0;34m\u001b[0m\u001b[0m\n\u001b[0m\u001b[1;32m     16\u001b[0m         \u001b[0mself\u001b[0m\u001b[0;34m.\u001b[0m\u001b[0mimage\u001b[0m \u001b[0;34m=\u001b[0m \u001b[0msitk\u001b[0m\u001b[0;34m.\u001b[0m\u001b[0mGetArrayFromImage\u001b[0m\u001b[0;34m(\u001b[0m\u001b[0mself\u001b[0m\u001b[0;34m.\u001b[0m\u001b[0mds\u001b[0m\u001b[0;34m)\u001b[0m\u001b[0;34m\u001b[0m\u001b[0;34m\u001b[0m\u001b[0m\n\u001b[1;32m     17\u001b[0m \u001b[0;34m\u001b[0m\u001b[0m\n",
            "\u001b[0;31mIndexError\u001b[0m: list index out of range"
          ]
        }
      ],
      "source": [
        "filename = '1.3.6.1.4.1.14519.5.2.1.6279.6001.100398138793540579077826395208'\n",
        "coords = (70.19, -140.93, 877.68)#[877.68, -140.93, 70.19]\n",
        "scan = CTScan(filename, coords)\n",
        "scan.read_mhd_image()\n",
        "x, y, z = scan.get_voxel_coords()\n",
        "image = scan.get_image()\n",
        "dx, dy, dz = scan.get_resolution()\n",
        "x0, y0, z0 = scan.get_origin()"
      ]
    },
    {
      "cell_type": "markdown",
      "metadata": {
        "id": "EIyjl0MSkPNA"
      },
      "source": [
        "###  Ok the class to get image data works\n",
        "\n",
        "Next thing to do is to undersample negative class drastically. Since the number of positives in the data set of 551065 are 1351 and rest are negatives, I plan to make the dataset less skewed. Like a 70%/30% split."
      ]
    },
    {
      "cell_type": "code",
      "execution_count": null,
      "metadata": {
        "id": "8ohttsc_kPNA"
      },
      "outputs": [],
      "source": [
        "positives"
      ]
    },
    {
      "cell_type": "code",
      "execution_count": null,
      "metadata": {
        "collapsed": true,
        "id": "851ESlCXkPNB"
      },
      "outputs": [],
      "source": [
        "np.random.seed(42)\n",
        "negIndexes = np.random.choice(negatives, len(positives)*5, replace = False)"
      ]
    },
    {
      "cell_type": "code",
      "execution_count": null,
      "metadata": {
        "id": "5hj6ngd_kPNB"
      },
      "outputs": [],
      "source": [
        "candidatesDf = candidates.iloc[list(positives)+list(negIndexes)]"
      ]
    },
    {
      "cell_type": "markdown",
      "metadata": {
        "id": "Xzqop7eSkPNB"
      },
      "source": [
        "### Now split it into test train set "
      ]
    },
    {
      "cell_type": "code",
      "execution_count": null,
      "metadata": {
        "id": "oSsiED4-kPNC"
      },
      "outputs": [],
      "source": [
        "from sklearn.model_selection import train_test_split\n",
        "X = candidatesDf.iloc[:,:-1]\n",
        "y = candidatesDf.iloc[:,-1]\n",
        "X_train, X_test, y_train, y_test = train_test_split(X, y, test_size = 0.20, random_state = 42)"
      ]
    },
    {
      "cell_type": "markdown",
      "metadata": {
        "id": "Cdb0cXHSkPNC"
      },
      "source": [
        "### Create a validation dataset"
      ]
    },
    {
      "cell_type": "code",
      "execution_count": null,
      "metadata": {
        "collapsed": true,
        "id": "tIxHX2CekPNC"
      },
      "outputs": [],
      "source": [
        "X_train, X_val, y_train, y_val = train_test_split(X_train, y_train, test_size = 0.20, random_state = 42)"
      ]
    },
    {
      "cell_type": "code",
      "execution_count": null,
      "metadata": {
        "id": "i_ObOjFFkPND",
        "outputId": "358ec150-da76-47b3-feaa-51d57cdb9abe",
        "colab": {
          "base_uri": "https://localhost:8080/"
        }
      },
      "outputs": [
        {
          "output_type": "execute_result",
          "data": {
            "text/plain": [
              "4149"
            ]
          },
          "metadata": {},
          "execution_count": 146
        }
      ],
      "source": [
        "len(X_train)"
      ]
    },
    {
      "cell_type": "code",
      "execution_count": null,
      "metadata": {
        "collapsed": true,
        "id": "_bmKUEMGkPND"
      },
      "outputs": [],
      "source": [
        "X_train.to_pickle('traindata')\n",
        "X_test.to_pickle('testdata')\n",
        "X_val.to_pickle('valdata')"
      ]
    },
    {
      "cell_type": "code",
      "execution_count": null,
      "metadata": {
        "collapsed": true,
        "id": "GrIgYEPrkPND"
      },
      "outputs": [],
      "source": [
        "def normalizePlanes(npzarray):\n",
        "    maxHU = 400.\n",
        "    minHU = -1000.\n",
        "    npzarray = (npzarray - minHU) / (maxHU - minHU)\n",
        "    npzarray[npzarray>1] = 1.\n",
        "    npzarray[npzarray<0] = 0.\n",
        "    return npzarray"
      ]
    },
    {
      "cell_type": "markdown",
      "metadata": {
        "id": "JRkvuOXCkPNE"
      },
      "source": [
        "### Focus on training data"
      ]
    },
    {
      "cell_type": "code",
      "execution_count": null,
      "metadata": {
        "id": "NBC7aSDQkPNE",
        "outputId": "e0c618fd-8a46-4474-a517-db3e0d5263fa",
        "colab": {
          "base_uri": "https://localhost:8080/"
        }
      },
      "outputs": [
        {
          "output_type": "stream",
          "name": "stdout",
          "text": [
            "number of positive cases are 659\n",
            "total set size is 4149\n",
            "percentage of positive cases are 0.15883345384429984\n"
          ]
        }
      ],
      "source": [
        "print('number of positive cases are ' + str(y_train.sum()))\n",
        "print('total set size is ' + str(len(y_train)))\n",
        "print('percentage of positive cases are ' + str(y_train.sum()*1.0/len(y_train)))"
      ]
    },
    {
      "cell_type": "markdown",
      "metadata": {
        "id": "Y7U9F--EkPNF"
      },
      "source": [
        "### There are 845 positive cases out of 5187 cases in the training set. We will need to augment the positive dataset like mad. "
      ]
    },
    {
      "cell_type": "markdown",
      "metadata": {
        "id": "bv-GlS_tkPNF"
      },
      "source": [
        "### Add new keys to X_train and y_train for augmented data"
      ]
    },
    {
      "cell_type": "code",
      "execution_count": null,
      "metadata": {
        "id": "HE6SIxgTkPNF",
        "outputId": "19e8002d-a112-4d11-e28b-4182cbada5db",
        "colab": {
          "base_uri": "https://localhost:8080/"
        }
      },
      "outputs": [
        {
          "output_type": "stream",
          "name": "stdout",
          "text": [
            "5467 5467\n"
          ]
        }
      ],
      "source": [
        "tempDf = X_train[y_train == 1]\n",
        "tempDf = tempDf.set_index(X_train[y_train == 1].index + 1000000)\n",
        "X_train_new = X_train.append(tempDf)\n",
        "tempDf = tempDf.set_index(X_train[y_train == 1].index + 2000000)\n",
        "X_train_new = X_train_new.append(tempDf)\n",
        "\n",
        "ytemp = y_train.reindex(X_train[y_train == 1].index + 1000000)\n",
        "ytemp.loc[:] = 1\n",
        "y_train_new = y_train.append(ytemp)\n",
        "ytemp = y_train.reindex(X_train[y_train == 1].index + 2000000)\n",
        "ytemp.loc[:] = 1\n",
        "y_train_new = y_train_new.append(ytemp)\n",
        "\n",
        "print(len(X_train_new), len(y_train_new))\n"
      ]
    },
    {
      "cell_type": "code",
      "execution_count": null,
      "metadata": {
        "id": "MGiAqAQAkPNG",
        "outputId": "f9d6ac61-1069-4814-afdb-8cb227ae6482",
        "colab": {
          "base_uri": "https://localhost:8080/"
        }
      },
      "outputs": [
        {
          "output_type": "execute_result",
          "data": {
            "text/plain": [
              "Int64Index([ 436064,  527056,    7511,  261419,  337988,  129068,  223275,\n",
              "             550544,  514973,  271913,\n",
              "            ...\n",
              "            2102335, 2044915, 2109604, 2273904, 2272653, 2089999, 2531862,\n",
              "            2459285, 2342267, 2091485],\n",
              "           dtype='int64', length=5467)"
            ]
          },
          "metadata": {},
          "execution_count": 151
        }
      ],
      "source": [
        "X_train_new.index\n"
      ]
    },
    {
      "cell_type": "markdown",
      "metadata": {
        "id": "z9_m2rVxkPNG"
      },
      "source": [
        "### Preprocessing"
      ]
    },
    {
      "cell_type": "code",
      "execution_count": null,
      "metadata": {
        "id": "_i2h5lZikPNG"
      },
      "outputs": [],
      "source": [
        "from skimage.transform import resize\n",
        "from PIL import ImageEnhance\n",
        "\n",
        "class PreProcessing(object):\n",
        "    def __init__(self, image = None):\n",
        "        self.image = image\n",
        "    \n",
        "    def subtract_mean(self):\n",
        "        self.image = (self.image/255.0 - 0.25)*255\n",
        "        return self.image\n",
        "    \n",
        "    def downsample_data(self):\n",
        "        self.image = resize(self.image,(40, 40))\n",
        "        return self.image\n",
        "    \n",
        "    def enhance_contrast(self):\n",
        "        self.image = ImageEnhance.Contrast(self.image)\n",
        "        return self.image"
      ]
    },
    {
      "cell_type": "code",
      "execution_count": null,
      "metadata": {
        "id": "5dkSJMUgkPNH",
        "outputId": "7a13de7d-baaf-4fd9-acb3-1433e01b5d20",
        "colab": {
          "base_uri": "https://localhost:8080/",
          "height": 593
        }
      },
      "outputs": [
        {
          "output_type": "display_data",
          "data": {
            "text/plain": [
              "<Figure size 720x720 with 3 Axes>"
            ],
            "image/png": "[encoded data removed]"
          },
          "metadata": {
            "needs_background": "light"
          }
        }
      ],
      "source": [
        "dirName = path+'src/data/train/'\n",
        "plt.figure(figsize = (10,10))\n",
        "inp = imread(dirName + 'image_'+ str(30517) + '.jpg')\n",
        "plt.subplot(221)\n",
        "plt.imshow(inp)\n",
        "plt.grid(False)\n",
        "\n",
        "Pp = PreProcessing(inp)\n",
        "\n",
        "inp2 = Pp.subtract_mean()\n",
        "plt.subplot(222)\n",
        "plt.imshow(inp2)\n",
        "plt.grid(False)\n",
        "\n",
        "#inp4 = Pp.enhance_contrast()\n",
        "#plt.subplot(224)\n",
        "#plt.imshow(inp4)\n",
        "#plt.grid(False)\n",
        "\n",
        "inp3 = Pp.downsample_data()\n",
        "plt.subplot(223)\n",
        "plt.imshow(inp3)\n",
        "plt.grid(False)\n",
        "\n",
        "#inp4 = Pp.enhance_contrast()\n",
        "#plt.subplot(224)\n",
        "#plt.imshow(inp4)\n",
        "#plt.grid(False)"
      ]
    },
    {
      "cell_type": "code",
      "execution_count": null,
      "metadata": {
        "id": "d2cEkwyOkPNH",
        "colab": {
          "base_uri": "https://localhost:8080/",
          "height": 35
        },
        "outputId": "0ab9b66f-125d-44eb-f4d6-5e5b6e064fee"
      },
      "outputs": [
        {
          "output_type": "execute_result",
          "data": {
            "text/plain": [
              "'/content/drive/MyDrive/ColabNotebooks/LungCancerDetection-master/src/data/train/'"
            ],
            "application/vnd.google.colaboratory.intrinsic+json": {
              "type": "string"
            }
          },
          "metadata": {},
          "execution_count": 154
        }
      ],
      "source": [
        "dirName"
      ]
    },
    {
      "cell_type": "markdown",
      "metadata": {
        "id": "fP-hiySPkPNI"
      },
      "source": [
        "### Convnet stuff\n",
        "\n",
        "I am planning t  us tflearn which is a wrapper around tensorflow"
      ]
    },
    {
      "cell_type": "code",
      "execution_count": null,
      "metadata": {
        "id": "OM6QVenMkPNI"
      },
      "outputs": [],
      "source": [
        "import tflearn"
      ]
    },
    {
      "cell_type": "markdown",
      "metadata": {
        "id": "8hKhnW8MkPNI"
      },
      "source": [
        "### loading image data on the fly is inefficient. So I am us"
      ]
    },
    {
      "cell_type": "code",
      "execution_count": null,
      "metadata": {
        "id": "a4cjqm5ekPNI",
        "outputId": "67a99c22-d14c-4af1-a771-4ff46fc1f4b3",
        "colab": {
          "base_uri": "https://localhost:8080/"
        }
      },
      "outputs": [
        {
          "output_type": "execute_result",
          "data": {
            "text/plain": [
              "array([1, 0, 0, ..., 1, 1, 1])"
            ]
          },
          "metadata": {},
          "execution_count": 156
        }
      ],
      "source": [
        "y_train_new.values.astype(int)"
      ]
    },
    {
      "cell_type": "code",
      "execution_count": null,
      "metadata": {
        "id": "j52D0NF8kPNJ",
        "outputId": "3e00c2d8-d84b-4225-88af-36d04e4b91b5",
        "colab": {
          "base_uri": "https://localhost:8080/"
        }
      },
      "outputs": [
        {
          "output_type": "execute_result",
          "data": {
            "text/plain": [
              "array(['/content/drive/MyDrive/ColabNotebooks/LungCancerDetection-master/src/data/train/image_436064.jpg',\n",
              "       '/content/drive/MyDrive/ColabNotebooks/LungCancerDetection-master/src/data/train/image_527056.jpg',\n",
              "       '/content/drive/MyDrive/ColabNotebooks/LungCancerDetection-master/src/data/train/image_7511.jpg',\n",
              "       ...,\n",
              "       '/content/drive/MyDrive/ColabNotebooks/LungCancerDetection-master/src/data/train/image_2459285.jpg',\n",
              "       '/content/drive/MyDrive/ColabNotebooks/LungCancerDetection-master/src/data/train/image_2342267.jpg',\n",
              "       '/content/drive/MyDrive/ColabNotebooks/LungCancerDetection-master/src/data/train/image_2091485.jpg'],\n",
              "      dtype='<U97')"
            ]
          },
          "metadata": {},
          "execution_count": 157
        }
      ],
      "source": [
        "train_filenames =\\\n",
        "X_train_new.index.to_series().apply(lambda x:\\\n",
        "                                    \"\\\\ \".join(path.split(\" \"))+'src/data/train/image_'+str(x)+'.jpg')\n",
        "train_filenames.values.astype(str)"
      ]
    },
    {
      "cell_type": "code",
      "execution_count": null,
      "metadata": {
        "id": "F2tyOEaikPNJ"
      },
      "outputs": [],
      "source": [
        "dataset_file = 'traindatalabels.txt'\n",
        "\n",
        "# train_filenames = X_train_new.index.to_series().apply(lambda x:\\\n",
        "   \n",
        "filenames = train_filenames.values.astype(str)\n",
        "labels = y_train_new.values.astype(int)\n",
        "traindata = pd.DataFrame([filenames,labels]).T.values\n",
        "\n",
        "np.savetxt(dataset_file, traindata, fmt=\"%10s %d\")"
      ]
    },
    {
      "cell_type": "code",
      "source": [
        ""
      ],
      "metadata": {
        "id": "_fkbwMLZku7d"
      },
      "execution_count": null,
      "outputs": []
    },
    {
      "cell_type": "code",
      "execution_count": null,
      "metadata": {
        "id": "guXMmavqkPNJ"
      },
      "outputs": [],
      "source": [
        "# Build a HDF5 dataset (only required once)\n",
        "from tflearn.data_utils import build_hdf5_image_dataset\n",
        "build_hdf5_image_dataset(dataset_file, image_shape=(50, 50), mode='file', output_path='traindataset.h5', categorical_labels=True, normalize=True)"
      ]
    },
    {
      "cell_type": "code",
      "execution_count": null,
      "metadata": {
        "collapsed": true,
        "id": "yimPvTUUkPNK"
      },
      "outputs": [],
      "source": [
        "# Load HDF5 dataset\n",
        "import h5py\n",
        "h5f = h5py.File('traindataset.h5', 'r')\n",
        "X_train_images = h5f['X']\n",
        "Y_train_labels = h5f['Y']\n",
        "\n",
        "h5f2 = h5py.File(path+'src/data/valdataset.h5', 'r')\n",
        "X_val_images = h5f2['X']\n",
        "Y_val_labels = h5f2['Y']"
      ]
    },
    {
      "cell_type": "code",
      "source": [
        "X_train_images"
      ],
      "metadata": {
        "colab": {
          "base_uri": "https://localhost:8080/"
        },
        "id": "mur9KvI5sijY",
        "outputId": "c8671154-ab2d-40d4-acaa-e171ee08eff9"
      },
      "execution_count": null,
      "outputs": [
        {
          "output_type": "execute_result",
          "data": {
            "text/plain": [
              "<HDF5 dataset \"X\": shape (5467, 50, 50, 3), type \"<f4\">"
            ]
          },
          "metadata": {},
          "execution_count": 229
        }
      ]
    },
    {
      "cell_type": "markdown",
      "metadata": {
        "id": "_WDGJw2MkPNK"
      },
      "source": [
        "## loading tflearn packages"
      ]
    },
    {
      "cell_type": "code",
      "execution_count": null,
      "metadata": {
        "collapsed": true,
        "id": "aqq49ndgkPNK"
      },
      "outputs": [],
      "source": [
        "from tflearn.layers.core import input_data, dropout, fully_connected\n",
        "from tflearn.layers.conv import conv_2d, max_pool_2d\n",
        "from tflearn.layers.estimator import regression\n",
        "from tflearn.data_preprocessing import ImagePreprocessing\n",
        "from tflearn.data_augmentation import ImageAugmentation"
      ]
    },
    {
      "cell_type": "code",
      "execution_count": null,
      "metadata": {
        "collapsed": true,
        "id": "gXTAO1QqkPNK"
      },
      "outputs": [],
      "source": [
        "# Make sure the data is normalized\n",
        "img_prep = ImagePreprocessing()\n",
        "img_prep.add_featurewise_zero_center()\n",
        "img_prep.add_featurewise_stdnorm()"
      ]
    },
    {
      "cell_type": "code",
      "execution_count": null,
      "metadata": {
        "collapsed": true,
        "id": "dhd8nIN9kPNL"
      },
      "outputs": [],
      "source": [
        "# Create extra synthetic training data by flipping, rotating and blurring the\n",
        "# images on our data set.\n",
        "img_aug = ImageAugmentation()\n",
        "img_aug.add_random_flip_leftright()\n",
        "img_aug.add_random_rotation(max_angle=25.)\n",
        "img_aug.add_random_blur(sigma_max=3.)"
      ]
    },
    {
      "cell_type": "code",
      "execution_count": null,
      "metadata": {
        "collapsed": true,
        "id": "z6wdjQTLkPNL",
        "colab": {
          "base_uri": "https://localhost:8080/"
        },
        "outputId": "91f15ef3-7624-49b5-9000-02ef19d01aa4"
      },
      "outputs": [
        {
          "output_type": "stream",
          "name": "stdout",
          "text": [
            "Tensor(\"InputData_3/X:0\", shape=(?, 50, 50, 1), dtype=float32)\n"
          ]
        }
      ],
      "source": [
        "# Input is a 50x50 image with 1 color channels (grayscale)\n",
        "network = input_data(shape=[None, 50, 50, 1],\n",
        "                     data_preprocessing=img_prep,\n",
        "                     data_augmentation=img_aug)\n",
        "print(network)"
      ]
    },
    {
      "cell_type": "code",
      "execution_count": null,
      "metadata": {
        "collapsed": true,
        "id": "5YgfU5AWkPNL",
        "colab": {
          "base_uri": "https://localhost:8080/"
        },
        "outputId": "9f463199-a07a-4c61-9bdf-2dfbdb527b7a"
      },
      "outputs": [
        {
          "output_type": "stream",
          "name": "stdout",
          "text": [
            "Tensor(\"Conv2D_9/Relu:0\", shape=(?, 50, 50, 50), dtype=float32)\n"
          ]
        }
      ],
      "source": [
        "# Step 1: Convolution\n",
        "network = conv_2d(network, 50, 3, activation='relu')\n",
        "print(network)"
      ]
    },
    {
      "cell_type": "code",
      "execution_count": null,
      "metadata": {
        "collapsed": true,
        "id": "q2krDsoJkPNL",
        "colab": {
          "base_uri": "https://localhost:8080/"
        },
        "outputId": "94b1c22c-983e-4c57-d148-0eb1d78f0a17"
      },
      "outputs": [
        {
          "output_type": "stream",
          "name": "stdout",
          "text": [
            "Tensor(\"MaxPool2D_6/MaxPool:0\", shape=(?, 25, 25, 50), dtype=float32)\n"
          ]
        }
      ],
      "source": [
        "# Step 2: Max pooling\n",
        "network = max_pool_2d(network, 2)\n",
        "print(network)"
      ]
    },
    {
      "cell_type": "code",
      "execution_count": null,
      "metadata": {
        "collapsed": true,
        "id": "KjFwto7FkPNM",
        "colab": {
          "base_uri": "https://localhost:8080/"
        },
        "outputId": "e5469662-7308-43fc-be98-b4640a798470"
      },
      "outputs": [
        {
          "output_type": "stream",
          "name": "stdout",
          "text": [
            "Tensor(\"Conv2D_10/Relu:0\", shape=(?, 25, 25, 64), dtype=float32)\n"
          ]
        }
      ],
      "source": [
        "# Step 3: Convolution again\n",
        "network = conv_2d(network, 64, 3, activation='relu')\n",
        "print(network)"
      ]
    },
    {
      "cell_type": "code",
      "execution_count": null,
      "metadata": {
        "collapsed": true,
        "id": "7pvlMfhikPNM",
        "colab": {
          "base_uri": "https://localhost:8080/"
        },
        "outputId": "14e14ee1-1325-425d-80f4-d859abef1d51"
      },
      "outputs": [
        {
          "output_type": "stream",
          "name": "stdout",
          "text": [
            "Tensor(\"Conv2D_11/Relu:0\", shape=(?, 25, 25, 64), dtype=float32)\n"
          ]
        }
      ],
      "source": [
        "# Step 4: Convolution yet again\n",
        "network = conv_2d(network, 64, 3, activation='relu')\n",
        "print(network)"
      ]
    },
    {
      "cell_type": "code",
      "execution_count": null,
      "metadata": {
        "collapsed": true,
        "id": "hoRtbbdWkPNN",
        "colab": {
          "base_uri": "https://localhost:8080/"
        },
        "outputId": "2dc48886-5fda-4bc9-c6a4-4e573192a6a1"
      },
      "outputs": [
        {
          "output_type": "stream",
          "name": "stdout",
          "text": [
            "Tensor(\"MaxPool2D_7/MaxPool:0\", shape=(?, 13, 13, 64), dtype=float32)\n"
          ]
        }
      ],
      "source": [
        "# Step 5: Max pooling again\n",
        "network = max_pool_2d(network, 2)\n",
        "print(network)"
      ]
    },
    {
      "cell_type": "code",
      "execution_count": null,
      "metadata": {
        "collapsed": true,
        "id": "rSZ-XSpmkPNN",
        "colab": {
          "base_uri": "https://localhost:8080/"
        },
        "outputId": "1c37f488-f002-44d0-e1d1-9cac2ab86f62"
      },
      "outputs": [
        {
          "output_type": "stream",
          "name": "stdout",
          "text": [
            "Tensor(\"FullyConnected_6/Relu:0\", shape=(?, 512), dtype=float32)\n"
          ]
        }
      ],
      "source": [
        "# Step 6: Fully-connected 512 node neural network\n",
        "network = fully_connected(network, 512, activation='relu')\n",
        "print(network)"
      ]
    },
    {
      "cell_type": "code",
      "execution_count": null,
      "metadata": {
        "collapsed": true,
        "id": "CeCfH6v4kPNN",
        "colab": {
          "base_uri": "https://localhost:8080/"
        },
        "outputId": "2160f9be-7181-4dec-d282-387bb7eef179"
      },
      "outputs": [
        {
          "output_type": "stream",
          "name": "stdout",
          "text": [
            "Tensor(\"Dropout_3/cond/Merge:0\", shape=(?, 512), dtype=float32)\n"
          ]
        }
      ],
      "source": [
        "# Step 7: Dropout - throw away some data randomly during training to prevent over-fitting\n",
        "network = dropout(network, 0.5)\n",
        "print(network)"
      ]
    },
    {
      "cell_type": "code",
      "execution_count": null,
      "metadata": {
        "collapsed": true,
        "id": "6QmzwSCXkPNN",
        "colab": {
          "base_uri": "https://localhost:8080/"
        },
        "outputId": "67f7aa72-4a07-4de9-bc8c-5bb6bbe16945"
      },
      "outputs": [
        {
          "output_type": "stream",
          "name": "stdout",
          "text": [
            "Tensor(\"FullyConnected_7/Softmax:0\", shape=(?, 2), dtype=float32)\n"
          ]
        }
      ],
      "source": [
        "# Step 8: Fully-connected neural network with two outputs (0=isn't a nodule, 1=is a nodule) to make the final prediction\n",
        "network = fully_connected(network, 2, activation='softmax')\n",
        "print(network)"
      ]
    },
    {
      "cell_type": "code",
      "execution_count": null,
      "metadata": {
        "collapsed": true,
        "id": "VpnsipCVkPNO",
        "colab": {
          "base_uri": "https://localhost:8080/"
        },
        "outputId": "13e4a5c9-7b83-488d-e630-32f6dc431a90"
      },
      "outputs": [
        {
          "output_type": "stream",
          "name": "stdout",
          "text": [
            "Tensor(\"FullyConnected_7/Softmax:0\", shape=(?, 2), dtype=float32)\n"
          ]
        }
      ],
      "source": [
        "# Tell tflearn how we want to train the network\n",
        "network = regression(network, optimizer='adam',\n",
        "                     loss='categorical_crossentropy',\n",
        "                     learning_rate=0.001)\n",
        "print(network)"
      ]
    },
    {
      "cell_type": "code",
      "source": [
        "Y_train_labels"
      ],
      "metadata": {
        "colab": {
          "base_uri": "https://localhost:8080/"
        },
        "id": "Kw40Kju6sVht",
        "outputId": "a017088c-078d-4fff-8c81-7c6ca028b8cb"
      },
      "execution_count": null,
      "outputs": [
        {
          "output_type": "execute_result",
          "data": {
            "text/plain": [
              "<HDF5 dataset \"Y\": shape (5467, 2), type \"<f4\">"
            ]
          },
          "metadata": {},
          "execution_count": 230
        }
      ]
    },
    {
      "cell_type": "code",
      "source": [
        "X_train_images"
      ],
      "metadata": {
        "colab": {
          "base_uri": "https://localhost:8080/"
        },
        "id": "msMW_gsNtrlz",
        "outputId": "0226bbf2-b324-4cc7-93e1-8e67b10d5723"
      },
      "execution_count": null,
      "outputs": [
        {
          "output_type": "execute_result",
          "data": {
            "text/plain": [
              "<HDF5 dataset \"X\": shape (5467, 50, 50, 3), type \"<f4\">"
            ]
          },
          "metadata": {},
          "execution_count": 231
        }
      ]
    },
    {
      "cell_type": "code",
      "execution_count": null,
      "metadata": {
        "id": "Jx_GJjxvkPNO"
      },
      "outputs": [],
      "source": [
        "# Wrap the network in a model object\n",
        "model = tflearn.DNN(network, tensorboard_verbose=0, checkpoint_path='nodule-classifier.tfl.ckpt')\n",
        "\n",
        "# Train it! We'll do 100 training passes and monitor it as it goes.\n",
        "model.fit(X_train_images, Y_train_labels, n_epoch=100, shuffle=True, validation_set=(X_val_images, Y_val_labels),\n",
        "          show_metric=True, batch_size=96,\n",
        "          snapshot_epoch=True,\n",
        "          run_id='nodule-classifier')\n",
        "\n",
        "# Save model when training is complete to a file\n",
        "model.save(\"nodule-classifier.tfl\")\n",
        "print(\"Network trained and saved as nodule-classifier.tfl!\")"
      ]
    },
    {
      "cell_type": "code",
      "execution_count": null,
      "metadata": {
        "id": "rKxkiYxIkPNO"
      },
      "outputs": [],
      "source": [
        "h5f2 = h5py.File('../src/data/testdataset.h5', 'r')\n",
        "X_test_images = h5f2['X']\n",
        "Y_test_labels = h5f2['Y']"
      ]
    },
    {
      "cell_type": "code",
      "execution_count": null,
      "metadata": {
        "id": "1oQFlqCokPNO"
      },
      "outputs": [],
      "source": [
        "model.predict(X_test_images)"
      ]
    },
    {
      "cell_type": "code",
      "execution_count": null,
      "metadata": {
        "collapsed": true,
        "id": "fRcoKWXxkPNP"
      },
      "outputs": [],
      "source": [
        ""
      ]
    }
  ],
  "metadata": {
    "kernelspec": {
      "display_name": "Python 2",
      "language": "python",
      "name": "python2"
    },
    "language_info": {
      "codemirror_mode": {
        "name": "ipython",
        "version": 2
      },
      "file_extension": ".py",
      "mimetype": "text/x-python",
      "name": "python",
      "nbconvert_exporter": "python",
      "pygments_lexer": "ipython2",
      "version": "2.7.12"
    },
    "colab": {
      "name": "LungCancerDetection.ipynb",
      "provenance": [],
      "toc_visible": true
    }
  },
  "nbformat": 4,
  "nbformat_minor": 0
}